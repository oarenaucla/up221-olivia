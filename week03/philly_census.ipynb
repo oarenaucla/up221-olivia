{
 "cells": [
  {
   "cell_type": "markdown",
   "id": "ce50ee0e-845d-4f6a-8e11-009afd91e235",
   "metadata": {},
   "source": [
    "The first cell of the notebook should be a markdown cell that includes a title, description, and author of the assignment.\n",
    "\n",
    "Download census variables relevant to your research question (if you are working outside of the United States, consult with me to find an alternative dataset)\n",
    "\n",
    "Create a Jupyter Notebook and use pandas/geopandas to explore and visualize the data\n",
    "\n",
    "Produce several charts, including one or more maps\n",
    "\n",
    "Make sure to document each procedure with markdown cells with relevant headers\n",
    "\n",
    "Run the cells in the notebook, and make sure the notebook \"reads\" from top to bottom, telling a story\n",
    "\n",
    "Upload each Jupyter Notebook along with the associated census data file to your group repo"
   ]
  },
  {
   "cell_type": "markdown",
   "id": "76c82340-e70a-4600-bca3-7630f4ba8971",
   "metadata": {},
   "source": [
    "## **Exploration of Housing in Philadelphia with a focus on Logan Triangle**\n",
    "### Author: Olivia Arena\n",
    "\n",
    "These data explore the current housing conditions in and around the Logan Triangle area of Philadelphia. Data are pulled from Census data and the Philadelphia Open Data Portal. "
   ]
  },
  {
   "cell_type": "markdown",
   "id": "07e36bd8-a6d9-4208-864e-4ed6c1b8b908",
   "metadata": {},
   "source": [
    "#### Set up"
   ]
  },
  {
   "cell_type": "markdown",
   "id": "2b6a9273-9751-49b7-9c7e-ddcf85cb05e7",
   "metadata": {},
   "source": [
    "The initial steps in the process of importing and analyzing Census data require the importation of libraries to help spatially visualize the data downloaded from the Census Bureau. The first step in this process is to download pandas and geopandas libraries."
   ]
  },
  {
   "cell_type": "code",
   "execution_count": 185,
   "id": "7c584180-baef-4337-81b6-4cdcd796926b",
   "metadata": {},
   "outputs": [],
   "source": [
    "import pandas as pd\n",
    "import geopandas as gpd"
   ]
  },
  {
   "cell_type": "markdown",
   "id": "71a2b069-902c-4a34-856f-b944b83d74ba",
   "metadata": {},
   "source": [
    "We also need to import relevant data pulled from the Census bureau, including a dataset of housing tenure, housing costs, and census block groups from the most recent ACS. For our study area, which does not fit into a pre-identified census geographic designation, I compiled a few census tracts which could make up a study area. The census tracts are 280, 281, 282, 283, 284, and 285 in Philadelphia County, PA. An image of the study area (satellite) from Social Explorer is included below. "
   ]
  },
  {
   "cell_type": "markdown",
   "id": "e69c93dd-f879-42fe-b969-b4acc762bea0",
   "metadata": {},
   "source": [
    "![satellite_image_pa]('images/satelliteimage.png')"
   ]
  },
  {
   "cell_type": "markdown",
   "id": "c2e1792b-5bb4-4b40-982d-26ffc7858dba",
   "metadata": {},
   "source": [
    "In Social Explorer, I chose to run a report pulling in 2017-2021 ACS 5-year data for Census Tracts 280, 281, 282, 283, 284, 285 in Philadelphia County, PA. I selected multiple housing variables including tenure and number of housing units. The command below reads in these data in a csv format into a new dataframe.\n"
   ]
  },
  {
   "cell_type": "code",
   "execution_count": 186,
   "id": "dbf4a03f-b93c-4174-bf06-cc053c403f2f",
   "metadata": {},
   "outputs": [],
   "source": [
    "df = pd.read_csv('data/R13284958_SL140.csv')"
   ]
  },
  {
   "cell_type": "markdown",
   "id": "e0b9f95a-cbdf-43fb-b279-2505b71829f8",
   "metadata": {},
   "source": [
    "#### Data Exploration"
   ]
  },
  {
   "cell_type": "markdown",
   "id": "7f132b0b-9875-482f-ba84-e7ec24bdcb42",
   "metadata": {},
   "source": [
    "After the initial import, several first steps include exploring these data to understand the shape and structure of the dataset."
   ]
  },
  {
   "cell_type": "code",
   "execution_count": 187,
   "id": "f4d16a1c-a7f2-4e7b-a18d-d116218da2ff",
   "metadata": {},
   "outputs": [
    {
     "data": {
      "text/plain": [
       "(6, 177)"
      ]
     },
     "execution_count": 187,
     "metadata": {},
     "output_type": "execute_result"
    }
   ],
   "source": [
    "df.shape"
   ]
  },
  {
   "cell_type": "code",
   "execution_count": 188,
   "id": "df8b2b43-bf28-4e03-a0e9-6adee4e23bbc",
   "metadata": {},
   "outputs": [
    {
     "data": {
      "text/html": [
       "<div>\n",
       "<style scoped>\n",
       "    .dataframe tbody tr th:only-of-type {\n",
       "        vertical-align: middle;\n",
       "    }\n",
       "\n",
       "    .dataframe tbody tr th {\n",
       "        vertical-align: top;\n",
       "    }\n",
       "\n",
       "    .dataframe thead th {\n",
       "        text-align: right;\n",
       "    }\n",
       "</style>\n",
       "<table border=\"1\" class=\"dataframe\">\n",
       "  <thead>\n",
       "    <tr style=\"text-align: right;\">\n",
       "      <th></th>\n",
       "      <th>Geo_FILEID</th>\n",
       "      <th>Geo_STUSAB</th>\n",
       "      <th>Geo_SUMLEV</th>\n",
       "      <th>Geo_GEOCOMP</th>\n",
       "      <th>Geo_LOGRECNO</th>\n",
       "      <th>Geo_US</th>\n",
       "      <th>Geo_REGION</th>\n",
       "      <th>Geo_DIVISION</th>\n",
       "      <th>Geo_STATECE</th>\n",
       "      <th>Geo_STATE</th>\n",
       "      <th>...</th>\n",
       "      <th>SE_A18001_009</th>\n",
       "      <th>PCT_SE_A18001_002</th>\n",
       "      <th>PCT_SE_A18001_003</th>\n",
       "      <th>PCT_SE_A18001_004</th>\n",
       "      <th>PCT_SE_A18001_005</th>\n",
       "      <th>PCT_SE_A18001_006</th>\n",
       "      <th>PCT_SE_A18001_007</th>\n",
       "      <th>PCT_SE_A18001_008</th>\n",
       "      <th>PCT_SE_A18001_009</th>\n",
       "      <th>SE_A18009_001</th>\n",
       "    </tr>\n",
       "  </thead>\n",
       "  <tbody>\n",
       "    <tr>\n",
       "      <th>0</th>\n",
       "      <td>ACSSF</td>\n",
       "      <td>pa</td>\n",
       "      <td>140</td>\n",
       "      <td>0</td>\n",
       "      <td>9077</td>\n",
       "      <td>NaN</td>\n",
       "      <td>NaN</td>\n",
       "      <td>NaN</td>\n",
       "      <td>NaN</td>\n",
       "      <td>42</td>\n",
       "      <td>...</td>\n",
       "      <td>0</td>\n",
       "      <td>19.43</td>\n",
       "      <td>6.85</td>\n",
       "      <td>6.85</td>\n",
       "      <td>21.34</td>\n",
       "      <td>28.50</td>\n",
       "      <td>11.94</td>\n",
       "      <td>5.10</td>\n",
       "      <td>0</td>\n",
       "      <td>964</td>\n",
       "    </tr>\n",
       "    <tr>\n",
       "      <th>1</th>\n",
       "      <td>ACSSF</td>\n",
       "      <td>pa</td>\n",
       "      <td>140</td>\n",
       "      <td>0</td>\n",
       "      <td>9078</td>\n",
       "      <td>NaN</td>\n",
       "      <td>NaN</td>\n",
       "      <td>NaN</td>\n",
       "      <td>NaN</td>\n",
       "      <td>42</td>\n",
       "      <td>...</td>\n",
       "      <td>0</td>\n",
       "      <td>0.00</td>\n",
       "      <td>17.32</td>\n",
       "      <td>8.38</td>\n",
       "      <td>22.16</td>\n",
       "      <td>17.69</td>\n",
       "      <td>6.15</td>\n",
       "      <td>28.31</td>\n",
       "      <td>0</td>\n",
       "      <td>1030</td>\n",
       "    </tr>\n",
       "    <tr>\n",
       "      <th>2</th>\n",
       "      <td>ACSSF</td>\n",
       "      <td>pa</td>\n",
       "      <td>140</td>\n",
       "      <td>0</td>\n",
       "      <td>9079</td>\n",
       "      <td>NaN</td>\n",
       "      <td>NaN</td>\n",
       "      <td>NaN</td>\n",
       "      <td>NaN</td>\n",
       "      <td>42</td>\n",
       "      <td>...</td>\n",
       "      <td>0</td>\n",
       "      <td>9.52</td>\n",
       "      <td>7.34</td>\n",
       "      <td>6.53</td>\n",
       "      <td>40.16</td>\n",
       "      <td>16.32</td>\n",
       "      <td>0.00</td>\n",
       "      <td>20.13</td>\n",
       "      <td>0</td>\n",
       "      <td>953</td>\n",
       "    </tr>\n",
       "    <tr>\n",
       "      <th>3</th>\n",
       "      <td>ACSSF</td>\n",
       "      <td>pa</td>\n",
       "      <td>140</td>\n",
       "      <td>0</td>\n",
       "      <td>9080</td>\n",
       "      <td>NaN</td>\n",
       "      <td>NaN</td>\n",
       "      <td>NaN</td>\n",
       "      <td>NaN</td>\n",
       "      <td>42</td>\n",
       "      <td>...</td>\n",
       "      <td>0</td>\n",
       "      <td>0.00</td>\n",
       "      <td>7.16</td>\n",
       "      <td>23.68</td>\n",
       "      <td>32.97</td>\n",
       "      <td>9.36</td>\n",
       "      <td>8.89</td>\n",
       "      <td>17.94</td>\n",
       "      <td>0</td>\n",
       "      <td>925</td>\n",
       "    </tr>\n",
       "    <tr>\n",
       "      <th>4</th>\n",
       "      <td>ACSSF</td>\n",
       "      <td>pa</td>\n",
       "      <td>140</td>\n",
       "      <td>0</td>\n",
       "      <td>9081</td>\n",
       "      <td>NaN</td>\n",
       "      <td>NaN</td>\n",
       "      <td>NaN</td>\n",
       "      <td>NaN</td>\n",
       "      <td>42</td>\n",
       "      <td>...</td>\n",
       "      <td>0</td>\n",
       "      <td>12.08</td>\n",
       "      <td>23.12</td>\n",
       "      <td>4.73</td>\n",
       "      <td>11.73</td>\n",
       "      <td>21.19</td>\n",
       "      <td>22.07</td>\n",
       "      <td>5.08</td>\n",
       "      <td>0</td>\n",
       "      <td>886</td>\n",
       "    </tr>\n",
       "  </tbody>\n",
       "</table>\n",
       "<p>5 rows × 177 columns</p>\n",
       "</div>"
      ],
      "text/plain": [
       "  Geo_FILEID Geo_STUSAB  Geo_SUMLEV  Geo_GEOCOMP  Geo_LOGRECNO  Geo_US  \\\n",
       "0      ACSSF         pa         140            0          9077     NaN   \n",
       "1      ACSSF         pa         140            0          9078     NaN   \n",
       "2      ACSSF         pa         140            0          9079     NaN   \n",
       "3      ACSSF         pa         140            0          9080     NaN   \n",
       "4      ACSSF         pa         140            0          9081     NaN   \n",
       "\n",
       "   Geo_REGION  Geo_DIVISION  Geo_STATECE  Geo_STATE  ...  SE_A18001_009  \\\n",
       "0         NaN           NaN          NaN         42  ...              0   \n",
       "1         NaN           NaN          NaN         42  ...              0   \n",
       "2         NaN           NaN          NaN         42  ...              0   \n",
       "3         NaN           NaN          NaN         42  ...              0   \n",
       "4         NaN           NaN          NaN         42  ...              0   \n",
       "\n",
       "   PCT_SE_A18001_002  PCT_SE_A18001_003  PCT_SE_A18001_004  PCT_SE_A18001_005  \\\n",
       "0              19.43               6.85               6.85              21.34   \n",
       "1               0.00              17.32               8.38              22.16   \n",
       "2               9.52               7.34               6.53              40.16   \n",
       "3               0.00               7.16              23.68              32.97   \n",
       "4              12.08              23.12               4.73              11.73   \n",
       "\n",
       "   PCT_SE_A18001_006  PCT_SE_A18001_007  PCT_SE_A18001_008  PCT_SE_A18001_009  \\\n",
       "0              28.50              11.94               5.10                  0   \n",
       "1              17.69               6.15              28.31                  0   \n",
       "2              16.32               0.00              20.13                  0   \n",
       "3               9.36               8.89              17.94                  0   \n",
       "4              21.19              22.07               5.08                  0   \n",
       "\n",
       "   SE_A18009_001  \n",
       "0            964  \n",
       "1           1030  \n",
       "2            953  \n",
       "3            925  \n",
       "4            886  \n",
       "\n",
       "[5 rows x 177 columns]"
      ]
     },
     "execution_count": 188,
     "metadata": {},
     "output_type": "execute_result"
    }
   ],
   "source": [
    "df.head()"
   ]
  },
  {
   "cell_type": "markdown",
   "id": "8cf6c8be-d304-417e-9520-a326d576c1d6",
   "metadata": {},
   "source": [
    "Based on these initial exploratory commands, the dataset includes six rows (the six census tracts) and 218 columns, which likely includes all the specific intervals for each housing variable. For example, for the age of rental stock, the variable includes percentage of renter-occupied housing units built broken down by decade from 2019 to 1939 or earlier. So, there are nine variables that make up that specific indicator."
   ]
  },
  {
   "cell_type": "code",
   "execution_count": 189,
   "id": "0a0825f4-d39d-421f-99d2-f9e69cd49c48",
   "metadata": {},
   "outputs": [
    {
     "name": "stdout",
     "output_type": "stream",
     "text": [
      "<class 'pandas.core.frame.DataFrame'>\n",
      "RangeIndex: 6 entries, 0 to 5\n",
      "Data columns (total 177 columns):\n",
      " #    Column             Non-Null Count  Dtype  \n",
      "---   ------             --------------  -----  \n",
      " 0    Geo_FILEID         6 non-null      object \n",
      " 1    Geo_STUSAB         6 non-null      object \n",
      " 2    Geo_SUMLEV         6 non-null      int64  \n",
      " 3    Geo_GEOCOMP        6 non-null      int64  \n",
      " 4    Geo_LOGRECNO       6 non-null      int64  \n",
      " 5    Geo_US             0 non-null      float64\n",
      " 6    Geo_REGION         0 non-null      float64\n",
      " 7    Geo_DIVISION       0 non-null      float64\n",
      " 8    Geo_STATECE        0 non-null      float64\n",
      " 9    Geo_STATE          6 non-null      int64  \n",
      " 10   Geo_COUNTY         6 non-null      int64  \n",
      " 11   Geo_COUSUB         0 non-null      float64\n",
      " 12   Geo_PLACE          0 non-null      float64\n",
      " 13   Geo_TRACT          6 non-null      int64  \n",
      " 14   Geo_BLKGRP         0 non-null      float64\n",
      " 15   Geo_CONCIT         0 non-null      float64\n",
      " 16   Geo_AIANHH         0 non-null      float64\n",
      " 17   Geo_AIANHHFP       0 non-null      float64\n",
      " 18   Geo_AIHHTLI        0 non-null      float64\n",
      " 19   Geo_AITSCE         0 non-null      float64\n",
      " 20   Geo_AITS           0 non-null      float64\n",
      " 21   Geo_ANRC           0 non-null      float64\n",
      " 22   Geo_CBSA           0 non-null      float64\n",
      " 23   Geo_CSA            0 non-null      float64\n",
      " 24   Geo_METDIV         0 non-null      float64\n",
      " 25   Geo_MACC           0 non-null      float64\n",
      " 26   Geo_MEMI           0 non-null      float64\n",
      " 27   Geo_NECTA          0 non-null      float64\n",
      " 28   Geo_CNECTA         0 non-null      float64\n",
      " 29   Geo_NECTADIV       0 non-null      float64\n",
      " 30   Geo_UA             0 non-null      float64\n",
      " 31   Geo_CDCURR         0 non-null      float64\n",
      " 32   Geo_SLDU           0 non-null      float64\n",
      " 33   Geo_SLDL           0 non-null      float64\n",
      " 34   Geo_ZCTA5          0 non-null      float64\n",
      " 35   Geo_SUBMCD         0 non-null      float64\n",
      " 36   Geo_SDELM          0 non-null      float64\n",
      " 37   Geo_SDSEC          0 non-null      float64\n",
      " 38   Geo_SDUNI          0 non-null      float64\n",
      " 39   Geo_UR             0 non-null      float64\n",
      " 40   Geo_PCI            0 non-null      float64\n",
      " 41   Geo_PUMA5          0 non-null      float64\n",
      " 42   Geo_GEOID          6 non-null      object \n",
      " 43   Geo_NAME           6 non-null      object \n",
      " 44   Geo_BTTR           0 non-null      float64\n",
      " 45   Geo_BTBG           0 non-null      float64\n",
      " 46   Geo_QName          6 non-null      object \n",
      " 47   Geo_FIPS           6 non-null      int64  \n",
      " 48   Geo_AREALAND       6 non-null      int64  \n",
      " 49   Geo_AREAWATR       6 non-null      int64  \n",
      " 50   Geo_PLACESE        0 non-null      float64\n",
      " 51   Geo_UACP           0 non-null      float64\n",
      " 52   Geo_VTD            0 non-null      float64\n",
      " 53   Geo_ZCTA3          0 non-null      float64\n",
      " 54   Geo_TAZ            0 non-null      float64\n",
      " 55   Geo_UGA            0 non-null      float64\n",
      " 56   Geo_PUMA1          0 non-null      float64\n",
      " 57   SE_A10001_001      6 non-null      int64  \n",
      " 58   SE_A00001_001      6 non-null      int64  \n",
      " 59   SE_A10008_001      6 non-null      int64  \n",
      " 60   SE_A10008_002      6 non-null      int64  \n",
      " 61   SE_A10008_003      6 non-null      int64  \n",
      " 62   SE_A10008_004      6 non-null      int64  \n",
      " 63   SE_A10008_005      6 non-null      int64  \n",
      " 64   SE_A10008_006      6 non-null      int64  \n",
      " 65   SE_A10008_007      6 non-null      int64  \n",
      " 66   SE_A10008_008      6 non-null      int64  \n",
      " 67   SE_A10008_009      6 non-null      int64  \n",
      " 68   PCT_SE_A10008_002  6 non-null      float64\n",
      " 69   PCT_SE_A10008_003  6 non-null      float64\n",
      " 70   PCT_SE_A10008_004  6 non-null      float64\n",
      " 71   PCT_SE_A10008_005  6 non-null      float64\n",
      " 72   PCT_SE_A10008_006  6 non-null      float64\n",
      " 73   PCT_SE_A10008_007  6 non-null      float64\n",
      " 74   PCT_SE_A10008_008  6 non-null      float64\n",
      " 75   PCT_SE_A10008_009  6 non-null      float64\n",
      " 76   SE_A10024_001      6 non-null      int64  \n",
      " 77   SE_A10024_002      6 non-null      int64  \n",
      " 78   SE_A10024_003      6 non-null      int64  \n",
      " 79   SE_A10024_004      6 non-null      int64  \n",
      " 80   SE_A10024_005      6 non-null      int64  \n",
      " 81   SE_A10024_006      6 non-null      int64  \n",
      " 82   SE_A10024_007      6 non-null      int64  \n",
      " 83   SE_A10024_008      6 non-null      int64  \n",
      " 84   PCT_SE_A10024_002  6 non-null      float64\n",
      " 85   PCT_SE_A10024_003  6 non-null      float64\n",
      " 86   PCT_SE_A10024_004  6 non-null      float64\n",
      " 87   PCT_SE_A10024_005  6 non-null      float64\n",
      " 88   PCT_SE_A10024_006  6 non-null      float64\n",
      " 89   PCT_SE_A10024_007  6 non-null      float64\n",
      " 90   PCT_SE_A10024_008  6 non-null      float64\n",
      " 91   SE_A10003_001      6 non-null      float64\n",
      " 92   SE_A10060_001      6 non-null      int64  \n",
      " 93   SE_A10060_002      6 non-null      int64  \n",
      " 94   SE_A10060_003      6 non-null      int64  \n",
      " 95   PCT_SE_A10060_002  6 non-null      float64\n",
      " 96   PCT_SE_A10060_003  6 non-null      float64\n",
      " 97   SE_B10060_001      6 non-null      int64  \n",
      " 98   SE_B10060_002      6 non-null      int64  \n",
      " 99   SE_B10060_003      6 non-null      int64  \n",
      " 100  PCT_SE_B10060_002  6 non-null      float64\n",
      " 101  PCT_SE_B10060_003  6 non-null      float64\n",
      " 102  SE_A10044_001      6 non-null      int64  \n",
      " 103  SE_A10044_002      6 non-null      int64  \n",
      " 104  SE_A10044_003      6 non-null      int64  \n",
      " 105  PCT_SE_A10044_002  6 non-null      float64\n",
      " 106  PCT_SE_A10044_003  6 non-null      float64\n",
      " 107  SE_A10047_001      6 non-null      int64  \n",
      " 108  SE_A10047_002      6 non-null      int64  \n",
      " 109  SE_A10047_003      6 non-null      int64  \n",
      " 110  SE_A10047_004      6 non-null      int64  \n",
      " 111  PCT_SE_A10047_002  6 non-null      float64\n",
      " 112  PCT_SE_A10047_003  6 non-null      float64\n",
      " 113  PCT_SE_A10047_004  6 non-null      float64\n",
      " 114  SE_A10032_001      6 non-null      int64  \n",
      " 115  SE_A10032_002      6 non-null      int64  \n",
      " 116  SE_A10032_003      6 non-null      int64  \n",
      " 117  SE_A10032_004      6 non-null      int64  \n",
      " 118  SE_A10032_005      6 non-null      int64  \n",
      " 119  SE_A10032_006      6 non-null      int64  \n",
      " 120  SE_A10032_007      6 non-null      int64  \n",
      " 121  SE_A10032_008      6 non-null      int64  \n",
      " 122  SE_A10032_009      6 non-null      int64  \n",
      " 123  SE_A10032_010      6 non-null      int64  \n",
      " 124  SE_A10032_011      6 non-null      int64  \n",
      " 125  SE_A10032_012      6 non-null      int64  \n",
      " 126  PCT_SE_A10032_002  6 non-null      float64\n",
      " 127  PCT_SE_A10032_003  6 non-null      float64\n",
      " 128  PCT_SE_A10032_004  6 non-null      float64\n",
      " 129  PCT_SE_A10032_005  6 non-null      float64\n",
      " 130  PCT_SE_A10032_006  6 non-null      float64\n",
      " 131  PCT_SE_A10032_007  6 non-null      float64\n",
      " 132  PCT_SE_A10032_008  6 non-null      float64\n",
      " 133  PCT_SE_A10032_009  6 non-null      float64\n",
      " 134  PCT_SE_A10032_010  6 non-null      float64\n",
      " 135  PCT_SE_A10032_011  6 non-null      int64  \n",
      " 136  PCT_SE_A10032_012  6 non-null      int64  \n",
      " 137  SE_A10055_001      6 non-null      int64  \n",
      " 138  SE_A10055_002      6 non-null      int64  \n",
      " 139  SE_A10055_003      6 non-null      int64  \n",
      " 140  SE_A10055_004      6 non-null      int64  \n",
      " 141  SE_A10055_005      6 non-null      int64  \n",
      " 142  SE_A10055_006      6 non-null      int64  \n",
      " 143  SE_A10055_007      6 non-null      int64  \n",
      " 144  SE_A10055_008      6 non-null      int64  \n",
      " 145  SE_A10055_009      6 non-null      int64  \n",
      " 146  SE_A10055_010      6 non-null      int64  \n",
      " 147  SE_A10055_011      6 non-null      int64  \n",
      " 148  PCT_SE_A10055_002  6 non-null      int64  \n",
      " 149  PCT_SE_A10055_003  6 non-null      float64\n",
      " 150  PCT_SE_A10055_004  6 non-null      float64\n",
      " 151  PCT_SE_A10055_005  6 non-null      float64\n",
      " 152  PCT_SE_A10055_006  6 non-null      float64\n",
      " 153  PCT_SE_A10055_007  6 non-null      float64\n",
      " 154  PCT_SE_A10055_008  6 non-null      float64\n",
      " 155  PCT_SE_A10055_009  6 non-null      float64\n",
      " 156  PCT_SE_A10055_010  6 non-null      float64\n",
      " 157  PCT_SE_A10055_011  6 non-null      float64\n",
      " 158  SE_A10036_001      6 non-null      int64  \n",
      " 159  SE_A18001_001      6 non-null      int64  \n",
      " 160  SE_A18001_002      6 non-null      int64  \n",
      " 161  SE_A18001_003      6 non-null      int64  \n",
      " 162  SE_A18001_004      6 non-null      int64  \n",
      " 163  SE_A18001_005      6 non-null      int64  \n",
      " 164  SE_A18001_006      6 non-null      int64  \n",
      " 165  SE_A18001_007      6 non-null      int64  \n",
      " 166  SE_A18001_008      6 non-null      int64  \n",
      " 167  SE_A18001_009      6 non-null      int64  \n",
      " 168  PCT_SE_A18001_002  6 non-null      float64\n",
      " 169  PCT_SE_A18001_003  6 non-null      float64\n",
      " 170  PCT_SE_A18001_004  6 non-null      float64\n",
      " 171  PCT_SE_A18001_005  6 non-null      float64\n",
      " 172  PCT_SE_A18001_006  6 non-null      float64\n",
      " 173  PCT_SE_A18001_007  6 non-null      float64\n",
      " 174  PCT_SE_A18001_008  6 non-null      float64\n",
      " 175  PCT_SE_A18001_009  6 non-null      int64  \n",
      " 176  SE_A18009_001      6 non-null      int64  \n",
      "dtypes: float64(93), int64(79), object(5)\n",
      "memory usage: 8.4+ KB\n"
     ]
    }
   ],
   "source": [
    "df.info(verbose=True, show_counts=True)"
   ]
  },
  {
   "cell_type": "markdown",
   "id": "c96fe6c8-b064-4903-946b-1fdbab7fd687",
   "metadata": {},
   "source": [
    "As expected, the number of variables is so high because of the specific increments in which the indicators are broken down. This may become an issue later on, and it might be necessary to subset the data. "
   ]
  },
  {
   "cell_type": "markdown",
   "id": "7db42d86-66c8-4ef6-9c83-e2f31c219e52",
   "metadata": {},
   "source": [
    "However, this lab referencing FIPS codes and Social Explorer has no way of cross referencing FIPS and tracts. So I did research on the Census documentation of geographies and worked backwards to create the FIPS codes necessary to pull these data in the format provided by the lab. The PA state code is 42, while the county code for Philadelphia County is 101, and then in looking at the six-digit code for Census tract it looks like 028400 is the same as the Census tract 284. I assume that '42101028400' is the code for Census tract 284 in Philadelphia County, PA. And the next assumption is that all five tracts I would like to pull data on follow the same pattern. Therefore my geographies will be '42101028000', '42101028100', '42101028200', '42101028300', '42101028400','42101028500'. However, there is no GEO_FIPS variable read in (even with this selection). I could use the Geo_LOGRECNO as the unique identifier, but I could also just generate a new Geo_FIPS variable with concatenation and the geographic variables existing in the data. "
   ]
  },
  {
   "cell_type": "code",
   "execution_count": 190,
   "id": "39975f9e-a3bc-484b-a877-cb37decb4abd",
   "metadata": {},
   "outputs": [],
   "source": [
    "df = pd.read_csv(\n",
    "    'data/R13284958_SL140.csv',\n",
    "    dtype=\n",
    "    {\n",
    "        'Geo_STATE':str,\n",
    "        'Geo_COUNTY': str,\n",
    "        'Geo_TRACT':str, \n",
    "        'Geo_FIPS':str\n",
    "    }\n",
    ")\n"
   ]
  },
  {
   "cell_type": "code",
   "execution_count": 191,
   "id": "13f1bcee-59e8-4191-b061-f151dc279276",
   "metadata": {},
   "outputs": [
    {
     "data": {
      "text/plain": [
       "0    42\n",
       "1    42\n",
       "2    42\n",
       "3    42\n",
       "4    42\n",
       "Name: Geo_STATE, dtype: object"
      ]
     },
     "execution_count": 191,
     "metadata": {},
     "output_type": "execute_result"
    }
   ],
   "source": [
    "df.Geo_STATE.head()"
   ]
  },
  {
   "cell_type": "code",
   "execution_count": 192,
   "id": "1f801f0f-9b52-48a1-bb55-5b4dd916111c",
   "metadata": {},
   "outputs": [
    {
     "data": {
      "text/plain": [
       "0    42101028000\n",
       "1    42101028100\n",
       "2    42101028200\n",
       "3    42101028300\n",
       "4    42101028400\n",
       "5    42101028500\n",
       "Name: Geo_FIPS, dtype: object"
      ]
     },
     "execution_count": 192,
     "metadata": {},
     "output_type": "execute_result"
    }
   ],
   "source": [
    "df.Geo_FIPS"
   ]
  },
  {
   "cell_type": "code",
   "execution_count": 193,
   "id": "cd84d190-7e7b-46f0-8e6a-25b102571c4b",
   "metadata": {},
   "outputs": [
    {
     "data": {
      "text/plain": [
       "(6, 177)"
      ]
     },
     "execution_count": 193,
     "metadata": {},
     "output_type": "execute_result"
    }
   ],
   "source": [
    "df.shape"
   ]
  },
  {
   "cell_type": "markdown",
   "id": "a017d1e8-5cf1-4ebb-98d8-000682fd92bd",
   "metadata": {},
   "source": [
    "Now, I want to drop variables that have no data. "
   ]
  },
  {
   "cell_type": "code",
   "execution_count": 194,
   "id": "e3d4af79-d6d3-4c86-b298-a46fad44fb5e",
   "metadata": {},
   "outputs": [
    {
     "data": {
      "text/plain": [
       "['Geo_US',\n",
       " 'Geo_REGION',\n",
       " 'Geo_DIVISION',\n",
       " 'Geo_STATECE',\n",
       " 'Geo_COUSUB',\n",
       " 'Geo_PLACE',\n",
       " 'Geo_BLKGRP',\n",
       " 'Geo_CONCIT',\n",
       " 'Geo_AIANHH',\n",
       " 'Geo_AIANHHFP',\n",
       " 'Geo_AIHHTLI',\n",
       " 'Geo_AITSCE',\n",
       " 'Geo_AITS',\n",
       " 'Geo_ANRC',\n",
       " 'Geo_CBSA',\n",
       " 'Geo_CSA',\n",
       " 'Geo_METDIV',\n",
       " 'Geo_MACC',\n",
       " 'Geo_MEMI',\n",
       " 'Geo_NECTA',\n",
       " 'Geo_CNECTA',\n",
       " 'Geo_NECTADIV',\n",
       " 'Geo_UA',\n",
       " 'Geo_CDCURR',\n",
       " 'Geo_SLDU',\n",
       " 'Geo_SLDL',\n",
       " 'Geo_ZCTA5',\n",
       " 'Geo_SUBMCD',\n",
       " 'Geo_SDELM',\n",
       " 'Geo_SDSEC',\n",
       " 'Geo_SDUNI',\n",
       " 'Geo_UR',\n",
       " 'Geo_PCI',\n",
       " 'Geo_PUMA5',\n",
       " 'Geo_BTTR',\n",
       " 'Geo_BTBG',\n",
       " 'Geo_PLACESE',\n",
       " 'Geo_UACP',\n",
       " 'Geo_VTD',\n",
       " 'Geo_ZCTA3',\n",
       " 'Geo_TAZ',\n",
       " 'Geo_UGA',\n",
       " 'Geo_PUMA1']"
      ]
     },
     "execution_count": 194,
     "metadata": {},
     "output_type": "execute_result"
    }
   ],
   "source": [
    "df.columns[df.isna().all()].tolist()\n"
   ]
  },
  {
   "cell_type": "code",
   "execution_count": 195,
   "id": "e837c87e-bc60-4d1c-bd30-ed94e952fa3b",
   "metadata": {},
   "outputs": [],
   "source": [
    "df = df.dropna(axis=1,how=\"all\")"
   ]
  },
  {
   "cell_type": "code",
   "execution_count": 196,
   "id": "9741a3ed-47c5-4712-8d4f-69536b0ded8d",
   "metadata": {},
   "outputs": [
    {
     "name": "stdout",
     "output_type": "stream",
     "text": [
      "<class 'pandas.core.frame.DataFrame'>\n",
      "RangeIndex: 6 entries, 0 to 5\n",
      "Columns: 134 entries, Geo_FILEID to SE_A18009_001\n",
      "dtypes: float64(50), int64(75), object(9)\n",
      "memory usage: 6.4+ KB\n"
     ]
    }
   ],
   "source": [
    "df.info()"
   ]
  },
  {
   "cell_type": "markdown",
   "id": "8cf31a8c-4691-4904-9328-3ff3b4961c88",
   "metadata": {},
   "source": [
    "Here it looks like the values dropped from 177 variables to 134. However, I wonder if that is because these were variable categories, like % owner, that just had no data. This issue may be something to come back to. "
   ]
  },
  {
   "cell_type": "markdown",
   "id": "21a4fbcd-c20e-470c-a5fd-68f72dd70d6d",
   "metadata": {},
   "source": [
    "This section of work looks at tenure for housing units, and I would like to keep occupied units by owner and renter  : Tenure\n",
    "         Universe:  Occupied Housing Units\n",
    "         Name:      A10060\n",
    "         Variables:\n",
    "            A10060_001:   Occupied Housing Units:\n",
    "            A10060_002:      Owner Occupied\n",
    "            A10060_003:      Renter Occupied"
   ]
  },
  {
   "cell_type": "code",
   "execution_count": 197,
   "id": "447727ac-ed4c-4434-b557-d0995a98681b",
   "metadata": {},
   "outputs": [],
   "source": [
    "columns_to_keep = ['Geo_FIPS',\n",
    "                   'SE_A10060_001',\n",
    "                   'SE_A10060_002',\n",
    "                   'SE_A10060_003',]"
   ]
  },
  {
   "cell_type": "code",
   "execution_count": 198,
   "id": "489a84b5-a6f3-4a08-b080-9add8440d946",
   "metadata": {},
   "outputs": [],
   "source": [
    "df2 = df[columns_to_keep]\n"
   ]
  },
  {
   "cell_type": "markdown",
   "id": "1b79c668-44ca-4e4d-b1b3-e89ef3507d3a",
   "metadata": {},
   "source": [
    "Because I just created a new subset of the data and added it to a new dataframe, I want to double check my work. SE_A10060_001 should be the total number of occupied units, so SE_A10060_002 + SE_A10060_003 should add up to SE_A10060_001. "
   ]
  },
  {
   "cell_type": "code",
   "execution_count": 199,
   "id": "bd73ba4c-765f-46bb-b9f1-c67d5ca68541",
   "metadata": {},
   "outputs": [
    {
     "data": {
      "text/html": [
       "<div>\n",
       "<style scoped>\n",
       "    .dataframe tbody tr th:only-of-type {\n",
       "        vertical-align: middle;\n",
       "    }\n",
       "\n",
       "    .dataframe tbody tr th {\n",
       "        vertical-align: top;\n",
       "    }\n",
       "\n",
       "    .dataframe thead th {\n",
       "        text-align: right;\n",
       "    }\n",
       "</style>\n",
       "<table border=\"1\" class=\"dataframe\">\n",
       "  <thead>\n",
       "    <tr style=\"text-align: right;\">\n",
       "      <th></th>\n",
       "      <th>Geo_FIPS</th>\n",
       "      <th>SE_A10060_001</th>\n",
       "      <th>SE_A10060_002</th>\n",
       "      <th>SE_A10060_003</th>\n",
       "    </tr>\n",
       "  </thead>\n",
       "  <tbody>\n",
       "    <tr>\n",
       "      <th>0</th>\n",
       "      <td>42101028000</td>\n",
       "      <td>1735</td>\n",
       "      <td>1107</td>\n",
       "      <td>628</td>\n",
       "    </tr>\n",
       "    <tr>\n",
       "      <th>1</th>\n",
       "      <td>42101028100</td>\n",
       "      <td>1917</td>\n",
       "      <td>1349</td>\n",
       "      <td>568</td>\n",
       "    </tr>\n",
       "    <tr>\n",
       "      <th>2</th>\n",
       "      <td>42101028200</td>\n",
       "      <td>2216</td>\n",
       "      <td>1113</td>\n",
       "      <td>1103</td>\n",
       "    </tr>\n",
       "    <tr>\n",
       "      <th>3</th>\n",
       "      <td>42101028300</td>\n",
       "      <td>2532</td>\n",
       "      <td>1261</td>\n",
       "      <td>1271</td>\n",
       "    </tr>\n",
       "    <tr>\n",
       "      <th>4</th>\n",
       "      <td>42101028400</td>\n",
       "      <td>1363</td>\n",
       "      <td>751</td>\n",
       "      <td>612</td>\n",
       "    </tr>\n",
       "  </tbody>\n",
       "</table>\n",
       "</div>"
      ],
      "text/plain": [
       "      Geo_FIPS  SE_A10060_001  SE_A10060_002  SE_A10060_003\n",
       "0  42101028000           1735           1107            628\n",
       "1  42101028100           1917           1349            568\n",
       "2  42101028200           2216           1113           1103\n",
       "3  42101028300           2532           1261           1271\n",
       "4  42101028400           1363            751            612"
      ]
     },
     "execution_count": 199,
     "metadata": {},
     "output_type": "execute_result"
    }
   ],
   "source": [
    "df2.head()"
   ]
  },
  {
   "cell_type": "code",
   "execution_count": 200,
   "id": "c56a653a-155c-4549-8071-30f0521948ef",
   "metadata": {},
   "outputs": [
    {
     "data": {
      "text/plain": [
       "1735"
      ]
     },
     "execution_count": 200,
     "metadata": {},
     "output_type": "execute_result"
    }
   ],
   "source": [
    "1107+628"
   ]
  },
  {
   "cell_type": "markdown",
   "id": "67240019-90c5-4df7-9e0d-4e4b9d005492",
   "metadata": {},
   "source": [
    "In testing the math on row 0, it does look like the two variables kept do add up to one another (renter and owner = total occupied units). Now I am going to rename my columns to reflect the variable names in the data dictionary. "
   ]
  },
  {
   "cell_type": "code",
   "execution_count": 201,
   "id": "2b0258c5-b153-40f1-9fc1-1facffad752c",
   "metadata": {},
   "outputs": [
    {
     "data": {
      "text/plain": [
       "['Geo_FIPS', 'SE_A10060_001', 'SE_A10060_002', 'SE_A10060_003']"
      ]
     },
     "execution_count": 201,
     "metadata": {},
     "output_type": "execute_result"
    }
   ],
   "source": [
    "columns = list(df2)\n",
    "columns"
   ]
  },
  {
   "cell_type": "code",
   "execution_count": 202,
   "id": "dc0ea76d-90fe-4821-95f9-12acb53eb4fe",
   "metadata": {},
   "outputs": [],
   "source": [
    "df2.columns = ['FIPS',\n",
    "'Occupied Housing Units',\n",
    "'Owner Occupied',\n",
    "'Renter Occupied',]"
   ]
  },
  {
   "cell_type": "code",
   "execution_count": 203,
   "id": "8bfd8e02-e894-4e0c-be90-34e190af556b",
   "metadata": {},
   "outputs": [
    {
     "data": {
      "text/html": [
       "<div>\n",
       "<style scoped>\n",
       "    .dataframe tbody tr th:only-of-type {\n",
       "        vertical-align: middle;\n",
       "    }\n",
       "\n",
       "    .dataframe tbody tr th {\n",
       "        vertical-align: top;\n",
       "    }\n",
       "\n",
       "    .dataframe thead th {\n",
       "        text-align: right;\n",
       "    }\n",
       "</style>\n",
       "<table border=\"1\" class=\"dataframe\">\n",
       "  <thead>\n",
       "    <tr style=\"text-align: right;\">\n",
       "      <th></th>\n",
       "      <th>FIPS</th>\n",
       "      <th>Occupied Housing Units</th>\n",
       "      <th>Owner Occupied</th>\n",
       "      <th>Renter Occupied</th>\n",
       "    </tr>\n",
       "  </thead>\n",
       "  <tbody>\n",
       "    <tr>\n",
       "      <th>1</th>\n",
       "      <td>42101028100</td>\n",
       "      <td>1917</td>\n",
       "      <td>1349</td>\n",
       "      <td>568</td>\n",
       "    </tr>\n",
       "    <tr>\n",
       "      <th>2</th>\n",
       "      <td>42101028200</td>\n",
       "      <td>2216</td>\n",
       "      <td>1113</td>\n",
       "      <td>1103</td>\n",
       "    </tr>\n",
       "    <tr>\n",
       "      <th>4</th>\n",
       "      <td>42101028400</td>\n",
       "      <td>1363</td>\n",
       "      <td>751</td>\n",
       "      <td>612</td>\n",
       "    </tr>\n",
       "    <tr>\n",
       "      <th>0</th>\n",
       "      <td>42101028000</td>\n",
       "      <td>1735</td>\n",
       "      <td>1107</td>\n",
       "      <td>628</td>\n",
       "    </tr>\n",
       "    <tr>\n",
       "      <th>5</th>\n",
       "      <td>42101028500</td>\n",
       "      <td>1116</td>\n",
       "      <td>616</td>\n",
       "      <td>500</td>\n",
       "    </tr>\n",
       "  </tbody>\n",
       "</table>\n",
       "</div>"
      ],
      "text/plain": [
       "          FIPS  Occupied Housing Units  Owner Occupied  Renter Occupied\n",
       "1  42101028100                    1917            1349              568\n",
       "2  42101028200                    2216            1113             1103\n",
       "4  42101028400                    1363             751              612\n",
       "0  42101028000                    1735            1107              628\n",
       "5  42101028500                    1116             616              500"
      ]
     },
     "execution_count": 203,
     "metadata": {},
     "output_type": "execute_result"
    }
   ],
   "source": [
    "df2.sample(5)"
   ]
  },
  {
   "cell_type": "code",
   "execution_count": 204,
   "id": "59aa8768-d09f-4879-bae0-57d335cae4f5",
   "metadata": {},
   "outputs": [
    {
     "data": {
      "text/plain": [
       "count       6.000000\n",
       "mean     1813.166667\n",
       "std       526.227866\n",
       "min      1116.000000\n",
       "25%      1456.000000\n",
       "50%      1826.000000\n",
       "75%      2141.250000\n",
       "max      2532.000000\n",
       "Name: Occupied Housing Units, dtype: float64"
      ]
     },
     "execution_count": 204,
     "metadata": {},
     "output_type": "execute_result"
    }
   ],
   "source": [
    "df2['Occupied Housing Units'].describe()\n"
   ]
  },
  {
   "cell_type": "code",
   "execution_count": 205,
   "id": "273251a9-7e80-45e2-91b7-876a78afaba5",
   "metadata": {},
   "outputs": [
    {
     "data": {
      "text/plain": [
       "<AxesSubplot: >"
      ]
     },
     "execution_count": 205,
     "metadata": {},
     "output_type": "execute_result"
    }
   ],
   "source": [
    "df2.boxplot(column=['Occupied Housing Units'])"
   ]
  },
  {
   "cell_type": "markdown",
   "id": "91a66cc9-cf42-4bb2-b12b-bec09eed9a3c",
   "metadata": {},
   "source": [
    "Looking at this boxplot, it seems that most of the census tracts in the sample area around Logan Triangle have between 1500 and 2100 units. The average number of units is 1813 units per census tract. I wonder how this density of housing units compares to other cities? If I remember correctly, in Vinit's physical planning class, the \"ideal\" number of population is 20,000 people per tract. This density, even when assuming each unit has a large family, would be much lower than that density. "
   ]
  },
  {
   "cell_type": "code",
   "execution_count": 206,
   "id": "1aa16837-17ec-4d55-a12a-21baf99f4ddf",
   "metadata": {},
   "outputs": [],
   "source": [
    "df_sorted = df2.sort_values(by='Renter Occupied',ascending = False)\n"
   ]
  },
  {
   "cell_type": "code",
   "execution_count": 207,
   "id": "dff8588f-7437-4759-9ad0-d741eb9df3eb",
   "metadata": {},
   "outputs": [
    {
     "data": {
      "text/html": [
       "<div>\n",
       "<style scoped>\n",
       "    .dataframe tbody tr th:only-of-type {\n",
       "        vertical-align: middle;\n",
       "    }\n",
       "\n",
       "    .dataframe tbody tr th {\n",
       "        vertical-align: top;\n",
       "    }\n",
       "\n",
       "    .dataframe thead th {\n",
       "        text-align: right;\n",
       "    }\n",
       "</style>\n",
       "<table border=\"1\" class=\"dataframe\">\n",
       "  <thead>\n",
       "    <tr style=\"text-align: right;\">\n",
       "      <th></th>\n",
       "      <th>FIPS</th>\n",
       "      <th>Occupied Housing Units</th>\n",
       "      <th>Owner Occupied</th>\n",
       "      <th>Renter Occupied</th>\n",
       "    </tr>\n",
       "  </thead>\n",
       "  <tbody>\n",
       "    <tr>\n",
       "      <th>3</th>\n",
       "      <td>42101028300</td>\n",
       "      <td>2532</td>\n",
       "      <td>1261</td>\n",
       "      <td>1271</td>\n",
       "    </tr>\n",
       "    <tr>\n",
       "      <th>2</th>\n",
       "      <td>42101028200</td>\n",
       "      <td>2216</td>\n",
       "      <td>1113</td>\n",
       "      <td>1103</td>\n",
       "    </tr>\n",
       "    <tr>\n",
       "      <th>0</th>\n",
       "      <td>42101028000</td>\n",
       "      <td>1735</td>\n",
       "      <td>1107</td>\n",
       "      <td>628</td>\n",
       "    </tr>\n",
       "    <tr>\n",
       "      <th>4</th>\n",
       "      <td>42101028400</td>\n",
       "      <td>1363</td>\n",
       "      <td>751</td>\n",
       "      <td>612</td>\n",
       "    </tr>\n",
       "    <tr>\n",
       "      <th>1</th>\n",
       "      <td>42101028100</td>\n",
       "      <td>1917</td>\n",
       "      <td>1349</td>\n",
       "      <td>568</td>\n",
       "    </tr>\n",
       "  </tbody>\n",
       "</table>\n",
       "</div>"
      ],
      "text/plain": [
       "          FIPS  Occupied Housing Units  Owner Occupied  Renter Occupied\n",
       "3  42101028300                    2532            1261             1271\n",
       "2  42101028200                    2216            1113             1103\n",
       "0  42101028000                    1735            1107              628\n",
       "4  42101028400                    1363             751              612\n",
       "1  42101028100                    1917            1349              568"
      ]
     },
     "execution_count": 207,
     "metadata": {},
     "output_type": "execute_result"
    }
   ],
   "source": [
    "df_sorted.head()"
   ]
  },
  {
   "cell_type": "code",
   "execution_count": 208,
   "id": "6179026a-59ca-4d80-b8ed-1b887f888ecb",
   "metadata": {},
   "outputs": [
    {
     "data": {
      "text/plain": [
       "<AxesSubplot: xlabel='FIPS'>"
      ]
     },
     "execution_count": 208,
     "metadata": {},
     "output_type": "execute_result"
    }
   ],
   "source": [
    "df_sorted.head(5).plot.bar(x='FIPS',\n",
    "                            y='Renter Occupied')"
   ]
  },
  {
   "cell_type": "code",
   "execution_count": 209,
   "id": "3f33696d-9b2d-4ab8-b13e-8163708218c6",
   "metadata": {},
   "outputs": [
    {
     "name": "stdout",
     "output_type": "stream",
     "text": [
      "<class 'pandas.core.frame.DataFrame'>\n",
      "RangeIndex: 6 entries, 0 to 5\n",
      "Data columns (total 4 columns):\n",
      " #   Column                  Non-Null Count  Dtype \n",
      "---  ------                  --------------  ----- \n",
      " 0   FIPS                    6 non-null      object\n",
      " 1   Occupied Housing Units  6 non-null      int64 \n",
      " 2   Owner Occupied          6 non-null      int64 \n",
      " 3   Renter Occupied         6 non-null      int64 \n",
      "dtypes: int64(3), object(1)\n",
      "memory usage: 320.0+ bytes\n"
     ]
    }
   ],
   "source": [
    "df2.info()"
   ]
  },
  {
   "cell_type": "markdown",
   "id": "bb8b4eec-a6d7-4d8b-95c9-5d47a1135115",
   "metadata": {},
   "source": [
    "#### Importing geographic data for mapping"
   ]
  },
  {
   "cell_type": "markdown",
   "id": "558b14c5-2631-42e6-8754-f09874668275",
   "metadata": {},
   "source": [
    "Now, I will import the geographic data to be able to map the Census data on specific rtacts and visualize some of the patterns within Philadelphia. "
   ]
  },
  {
   "cell_type": "code",
   "execution_count": 210,
   "id": "7c7470d3-4434-4690-b073-d168c24f74c9",
   "metadata": {},
   "outputs": [
    {
     "data": {
      "text/html": [
       "<div>\n",
       "<style scoped>\n",
       "    .dataframe tbody tr th:only-of-type {\n",
       "        vertical-align: middle;\n",
       "    }\n",
       "\n",
       "    .dataframe tbody tr th {\n",
       "        vertical-align: top;\n",
       "    }\n",
       "\n",
       "    .dataframe thead th {\n",
       "        text-align: right;\n",
       "    }\n",
       "</style>\n",
       "<table border=\"1\" class=\"dataframe\">\n",
       "  <thead>\n",
       "    <tr style=\"text-align: right;\">\n",
       "      <th></th>\n",
       "      <th>OBJECTID</th>\n",
       "      <th>STATEFP10</th>\n",
       "      <th>COUNTYFP10</th>\n",
       "      <th>TRACTCE10</th>\n",
       "      <th>GEOID10</th>\n",
       "      <th>NAME10</th>\n",
       "      <th>NAMELSAD10</th>\n",
       "      <th>MTFCC10</th>\n",
       "      <th>FUNCSTAT10</th>\n",
       "      <th>ALAND10</th>\n",
       "      <th>AWATER10</th>\n",
       "      <th>INTPTLAT10</th>\n",
       "      <th>INTPTLON10</th>\n",
       "      <th>LOGRECNO</th>\n",
       "      <th>geometry</th>\n",
       "    </tr>\n",
       "  </thead>\n",
       "  <tbody>\n",
       "    <tr>\n",
       "      <th>0</th>\n",
       "      <td>1</td>\n",
       "      <td>42</td>\n",
       "      <td>101</td>\n",
       "      <td>009400</td>\n",
       "      <td>42101009400</td>\n",
       "      <td>94</td>\n",
       "      <td>Census Tract 94</td>\n",
       "      <td>G5020</td>\n",
       "      <td>S</td>\n",
       "      <td>366717</td>\n",
       "      <td>0</td>\n",
       "      <td>+39.9632709</td>\n",
       "      <td>-075.2322437</td>\n",
       "      <td>10429</td>\n",
       "      <td>POLYGON ((-75.22927 39.96054, -75.22865 39.960...</td>\n",
       "    </tr>\n",
       "    <tr>\n",
       "      <th>1</th>\n",
       "      <td>2</td>\n",
       "      <td>42</td>\n",
       "      <td>101</td>\n",
       "      <td>009500</td>\n",
       "      <td>42101009500</td>\n",
       "      <td>95</td>\n",
       "      <td>Census Tract 95</td>\n",
       "      <td>G5020</td>\n",
       "      <td>S</td>\n",
       "      <td>319070</td>\n",
       "      <td>0</td>\n",
       "      <td>+39.9658709</td>\n",
       "      <td>-075.2379140</td>\n",
       "      <td>10430</td>\n",
       "      <td>POLYGON ((-75.23536 39.96852, -75.23545 39.969...</td>\n",
       "    </tr>\n",
       "    <tr>\n",
       "      <th>2</th>\n",
       "      <td>3</td>\n",
       "      <td>42</td>\n",
       "      <td>101</td>\n",
       "      <td>009600</td>\n",
       "      <td>42101009600</td>\n",
       "      <td>96</td>\n",
       "      <td>Census Tract 96</td>\n",
       "      <td>G5020</td>\n",
       "      <td>S</td>\n",
       "      <td>405273</td>\n",
       "      <td>0</td>\n",
       "      <td>+39.9655396</td>\n",
       "      <td>-075.2435075</td>\n",
       "      <td>10431</td>\n",
       "      <td>POLYGON ((-75.24343 39.96230, -75.24339 39.962...</td>\n",
       "    </tr>\n",
       "    <tr>\n",
       "      <th>3</th>\n",
       "      <td>4</td>\n",
       "      <td>42</td>\n",
       "      <td>101</td>\n",
       "      <td>013800</td>\n",
       "      <td>42101013800</td>\n",
       "      <td>138</td>\n",
       "      <td>Census Tract 138</td>\n",
       "      <td>G5020</td>\n",
       "      <td>S</td>\n",
       "      <td>341256</td>\n",
       "      <td>0</td>\n",
       "      <td>+39.9764504</td>\n",
       "      <td>-075.1771771</td>\n",
       "      <td>10468</td>\n",
       "      <td>POLYGON ((-75.17341 39.97779, -75.17386 39.977...</td>\n",
       "    </tr>\n",
       "    <tr>\n",
       "      <th>4</th>\n",
       "      <td>5</td>\n",
       "      <td>42</td>\n",
       "      <td>101</td>\n",
       "      <td>013900</td>\n",
       "      <td>42101013900</td>\n",
       "      <td>139</td>\n",
       "      <td>Census Tract 139</td>\n",
       "      <td>G5020</td>\n",
       "      <td>S</td>\n",
       "      <td>562934</td>\n",
       "      <td>0</td>\n",
       "      <td>+39.9750563</td>\n",
       "      <td>-075.1711846</td>\n",
       "      <td>10469</td>\n",
       "      <td>POLYGON ((-75.17313 39.97776, -75.17321 39.977...</td>\n",
       "    </tr>\n",
       "  </tbody>\n",
       "</table>\n",
       "</div>"
      ],
      "text/plain": [
       "   OBJECTID STATEFP10 COUNTYFP10 TRACTCE10      GEOID10 NAME10  \\\n",
       "0         1        42        101    009400  42101009400     94   \n",
       "1         2        42        101    009500  42101009500     95   \n",
       "2         3        42        101    009600  42101009600     96   \n",
       "3         4        42        101    013800  42101013800    138   \n",
       "4         5        42        101    013900  42101013900    139   \n",
       "\n",
       "         NAMELSAD10 MTFCC10 FUNCSTAT10  ALAND10  AWATER10   INTPTLAT10  \\\n",
       "0   Census Tract 94   G5020          S   366717         0  +39.9632709   \n",
       "1   Census Tract 95   G5020          S   319070         0  +39.9658709   \n",
       "2   Census Tract 96   G5020          S   405273         0  +39.9655396   \n",
       "3  Census Tract 138   G5020          S   341256         0  +39.9764504   \n",
       "4  Census Tract 139   G5020          S   562934         0  +39.9750563   \n",
       "\n",
       "     INTPTLON10 LOGRECNO                                           geometry  \n",
       "0  -075.2322437    10429  POLYGON ((-75.22927 39.96054, -75.22865 39.960...  \n",
       "1  -075.2379140    10430  POLYGON ((-75.23536 39.96852, -75.23545 39.969...  \n",
       "2  -075.2435075    10431  POLYGON ((-75.24343 39.96230, -75.24339 39.962...  \n",
       "3  -075.1771771    10468  POLYGON ((-75.17341 39.97779, -75.17386 39.977...  \n",
       "4  -075.1711846    10469  POLYGON ((-75.17313 39.97776, -75.17321 39.977...  "
      ]
     },
     "execution_count": 210,
     "metadata": {},
     "output_type": "execute_result"
    }
   ],
   "source": [
    "tracts=gpd.read_file('data/Census_Tracts_2010.geojson')\n",
    "tracts.head()"
   ]
  },
  {
   "cell_type": "markdown",
   "id": "5df61bc5-d902-4371-ac4c-c299bed1dbe1",
   "metadata": {},
   "source": [
    "Now that the geometric data has been imported, I will run an initial plot to begin visualizing.  "
   ]
  },
  {
   "cell_type": "code",
   "execution_count": 211,
   "id": "e8fb0b3c-5f4b-4a52-ba82-06443cd14622",
   "metadata": {},
   "outputs": [
    {
     "data": {
      "text/plain": [
       "<AxesSubplot: >"
      ]
     },
     "execution_count": 211,
     "metadata": {},
     "output_type": "execute_result"
    }
   ],
   "source": [
    "tracts.plot(figsize=(12,10))\n"
   ]
  },
  {
   "cell_type": "code",
   "execution_count": 212,
   "id": "9f94766a-fb6b-41b3-93dd-f5089e12b214",
   "metadata": {},
   "outputs": [
    {
     "name": "stdout",
     "output_type": "stream",
     "text": [
      "<class 'geopandas.geodataframe.GeoDataFrame'>\n",
      "RangeIndex: 384 entries, 0 to 383\n",
      "Data columns (total 15 columns):\n",
      " #   Column      Non-Null Count  Dtype   \n",
      "---  ------      --------------  -----   \n",
      " 0   OBJECTID    384 non-null    int64   \n",
      " 1   STATEFP10   384 non-null    object  \n",
      " 2   COUNTYFP10  384 non-null    object  \n",
      " 3   TRACTCE10   384 non-null    object  \n",
      " 4   GEOID10     384 non-null    object  \n",
      " 5   NAME10      384 non-null    object  \n",
      " 6   NAMELSAD10  384 non-null    object  \n",
      " 7   MTFCC10     384 non-null    object  \n",
      " 8   FUNCSTAT10  384 non-null    object  \n",
      " 9   ALAND10     384 non-null    int64   \n",
      " 10  AWATER10    384 non-null    int64   \n",
      " 11  INTPTLAT10  384 non-null    object  \n",
      " 12  INTPTLON10  384 non-null    object  \n",
      " 13  LOGRECNO    384 non-null    object  \n",
      " 14  geometry    384 non-null    geometry\n",
      "dtypes: geometry(1), int64(3), object(11)\n",
      "memory usage: 45.1+ KB\n"
     ]
    }
   ],
   "source": [
    "tracts.info(verbose=True, show_counts=True)\n"
   ]
  },
  {
   "cell_type": "markdown",
   "id": "ef07c022-45ff-4a6e-97b0-9dd015efb34b",
   "metadata": {},
   "source": [
    "Now, I want to subset this dataset to only include the two variables that I need, which are the FIPS code (for joining) and the geometry (for spatial visualizing). I am dropping all variables except for the tract variable (TRACTCE9=10) and the geometry variable. "
   ]
  },
  {
   "cell_type": "code",
   "execution_count": 213,
   "id": "b397dead-9fcf-4b2e-957e-c338a3a40152",
   "metadata": {},
   "outputs": [
    {
     "data": {
      "text/html": [
       "<div>\n",
       "<style scoped>\n",
       "    .dataframe tbody tr th:only-of-type {\n",
       "        vertical-align: middle;\n",
       "    }\n",
       "\n",
       "    .dataframe tbody tr th {\n",
       "        vertical-align: top;\n",
       "    }\n",
       "\n",
       "    .dataframe thead th {\n",
       "        text-align: right;\n",
       "    }\n",
       "</style>\n",
       "<table border=\"1\" class=\"dataframe\">\n",
       "  <thead>\n",
       "    <tr style=\"text-align: right;\">\n",
       "      <th></th>\n",
       "      <th>TRACTCE10</th>\n",
       "      <th>geometry</th>\n",
       "    </tr>\n",
       "  </thead>\n",
       "  <tbody>\n",
       "    <tr>\n",
       "      <th>0</th>\n",
       "      <td>009400</td>\n",
       "      <td>POLYGON ((-75.22927 39.96054, -75.22865 39.960...</td>\n",
       "    </tr>\n",
       "    <tr>\n",
       "      <th>1</th>\n",
       "      <td>009500</td>\n",
       "      <td>POLYGON ((-75.23536 39.96852, -75.23545 39.969...</td>\n",
       "    </tr>\n",
       "    <tr>\n",
       "      <th>2</th>\n",
       "      <td>009600</td>\n",
       "      <td>POLYGON ((-75.24343 39.96230, -75.24339 39.962...</td>\n",
       "    </tr>\n",
       "    <tr>\n",
       "      <th>3</th>\n",
       "      <td>013800</td>\n",
       "      <td>POLYGON ((-75.17341 39.97779, -75.17386 39.977...</td>\n",
       "    </tr>\n",
       "    <tr>\n",
       "      <th>4</th>\n",
       "      <td>013900</td>\n",
       "      <td>POLYGON ((-75.17313 39.97776, -75.17321 39.977...</td>\n",
       "    </tr>\n",
       "  </tbody>\n",
       "</table>\n",
       "</div>"
      ],
      "text/plain": [
       "  TRACTCE10                                           geometry\n",
       "0    009400  POLYGON ((-75.22927 39.96054, -75.22865 39.960...\n",
       "1    009500  POLYGON ((-75.23536 39.96852, -75.23545 39.969...\n",
       "2    009600  POLYGON ((-75.24343 39.96230, -75.24339 39.962...\n",
       "3    013800  POLYGON ((-75.17341 39.97779, -75.17386 39.977...\n",
       "4    013900  POLYGON ((-75.17313 39.97776, -75.17321 39.977..."
      ]
     },
     "execution_count": 213,
     "metadata": {},
     "output_type": "execute_result"
    }
   ],
   "source": [
    "tracts = tracts[['TRACTCE10','geometry']]\n",
    "tracts.head()"
   ]
  },
  {
   "cell_type": "markdown",
   "id": "58a7c752-47c6-4cb7-abc5-53755de4090b",
   "metadata": {},
   "source": [
    "As explained above, to get the full FIPS code for the tract, I will need the state and city codes for Philadelphia. Then, I will merge these codes to the specific tract codes. "
   ]
  },
  {
   "cell_type": "code",
   "execution_count": 215,
   "id": "fe08120e-25fa-4dd4-b0e7-55485e1d885f",
   "metadata": {},
   "outputs": [],
   "source": [
    "tracts['FIPS'] ='42' + '101' + tracts['TRACTCE10']\n"
   ]
  },
  {
   "cell_type": "markdown",
   "id": "d0fd0984-b86c-4703-99be-6698e587edbe",
   "metadata": {},
   "source": [
    "I wanted to make sure that the new variable was created, so I printed and below I tried it the way it is written in the lab notes."
   ]
  },
  {
   "cell_type": "code",
   "execution_count": 216,
   "id": "cc92d624-28ac-490a-aea4-f06a7a27a4c7",
   "metadata": {},
   "outputs": [
    {
     "name": "stdout",
     "output_type": "stream",
     "text": [
      "    TRACTCE10                                           geometry         FIPS\n",
      "0      009400  POLYGON ((-75.22927 39.96054, -75.22865 39.960...  42101009400\n",
      "1      009500  POLYGON ((-75.23536 39.96852, -75.23545 39.969...  42101009500\n",
      "2      009600  POLYGON ((-75.24343 39.96230, -75.24339 39.962...  42101009600\n",
      "3      013800  POLYGON ((-75.17341 39.97779, -75.17386 39.977...  42101013800\n",
      "4      013900  POLYGON ((-75.17313 39.97776, -75.17321 39.977...  42101013900\n",
      "..        ...                                                ...          ...\n",
      "379    037200  POLYGON ((-75.17135 39.91678, -75.17143 39.916...  42101037200\n",
      "380    038300  POLYGON ((-75.11627 40.01743, -75.11660 40.017...  42101038300\n",
      "381    039000  POLYGON ((-75.08824 40.04034, -75.08820 40.040...  42101039000\n",
      "382    037800  POLYGON ((-75.11051 39.96952, -75.10676 39.970...  42101037800\n",
      "383    037700  POLYGON ((-75.15170 39.98571, -75.15249 39.985...  42101037700\n",
      "\n",
      "[384 rows x 3 columns]\n"
     ]
    }
   ],
   "source": [
    "print(tracts)"
   ]
  },
  {
   "cell_type": "code",
   "execution_count": 217,
   "id": "8edf0a78-cdfa-48da-a75e-5b0ba841c9a2",
   "metadata": {},
   "outputs": [
    {
     "data": {
      "text/html": [
       "<div>\n",
       "<style scoped>\n",
       "    .dataframe tbody tr th:only-of-type {\n",
       "        vertical-align: middle;\n",
       "    }\n",
       "\n",
       "    .dataframe tbody tr th {\n",
       "        vertical-align: top;\n",
       "    }\n",
       "\n",
       "    .dataframe thead th {\n",
       "        text-align: right;\n",
       "    }\n",
       "</style>\n",
       "<table border=\"1\" class=\"dataframe\">\n",
       "  <thead>\n",
       "    <tr style=\"text-align: right;\">\n",
       "      <th></th>\n",
       "      <th>TRACTCE10</th>\n",
       "      <th>geometry</th>\n",
       "      <th>FIPS</th>\n",
       "    </tr>\n",
       "  </thead>\n",
       "  <tbody>\n",
       "    <tr>\n",
       "      <th>0</th>\n",
       "      <td>009400</td>\n",
       "      <td>POLYGON ((-75.22927 39.96054, -75.22865 39.960...</td>\n",
       "      <td>42101009400</td>\n",
       "    </tr>\n",
       "    <tr>\n",
       "      <th>1</th>\n",
       "      <td>009500</td>\n",
       "      <td>POLYGON ((-75.23536 39.96852, -75.23545 39.969...</td>\n",
       "      <td>42101009500</td>\n",
       "    </tr>\n",
       "    <tr>\n",
       "      <th>2</th>\n",
       "      <td>009600</td>\n",
       "      <td>POLYGON ((-75.24343 39.96230, -75.24339 39.962...</td>\n",
       "      <td>42101009600</td>\n",
       "    </tr>\n",
       "    <tr>\n",
       "      <th>3</th>\n",
       "      <td>013800</td>\n",
       "      <td>POLYGON ((-75.17341 39.97779, -75.17386 39.977...</td>\n",
       "      <td>42101013800</td>\n",
       "    </tr>\n",
       "    <tr>\n",
       "      <th>4</th>\n",
       "      <td>013900</td>\n",
       "      <td>POLYGON ((-75.17313 39.97776, -75.17321 39.977...</td>\n",
       "      <td>42101013900</td>\n",
       "    </tr>\n",
       "  </tbody>\n",
       "</table>\n",
       "</div>"
      ],
      "text/plain": [
       "  TRACTCE10                                           geometry         FIPS\n",
       "0    009400  POLYGON ((-75.22927 39.96054, -75.22865 39.960...  42101009400\n",
       "1    009500  POLYGON ((-75.23536 39.96852, -75.23545 39.969...  42101009500\n",
       "2    009600  POLYGON ((-75.24343 39.96230, -75.24339 39.962...  42101009600\n",
       "3    013800  POLYGON ((-75.17341 39.97779, -75.17386 39.977...  42101013800\n",
       "4    013900  POLYGON ((-75.17313 39.97776, -75.17321 39.977...  42101013900"
      ]
     },
     "execution_count": 217,
     "metadata": {},
     "output_type": "execute_result"
    }
   ],
   "source": [
    "tracts.head()\n"
   ]
  },
  {
   "cell_type": "code",
   "execution_count": 218,
   "id": "5cdf42df-64d9-4648-80c2-9747c2865235",
   "metadata": {},
   "outputs": [
    {
     "data": {
      "text/html": [
       "<div>\n",
       "<style scoped>\n",
       "    .dataframe tbody tr th:only-of-type {\n",
       "        vertical-align: middle;\n",
       "    }\n",
       "\n",
       "    .dataframe tbody tr th {\n",
       "        vertical-align: top;\n",
       "    }\n",
       "\n",
       "    .dataframe thead th {\n",
       "        text-align: right;\n",
       "    }\n",
       "</style>\n",
       "<table border=\"1\" class=\"dataframe\">\n",
       "  <thead>\n",
       "    <tr style=\"text-align: right;\">\n",
       "      <th></th>\n",
       "      <th>FIPS</th>\n",
       "      <th>Occupied Housing Units</th>\n",
       "      <th>Owner Occupied</th>\n",
       "      <th>Renter Occupied</th>\n",
       "    </tr>\n",
       "  </thead>\n",
       "  <tbody>\n",
       "    <tr>\n",
       "      <th>0</th>\n",
       "      <td>42101028000</td>\n",
       "      <td>1735</td>\n",
       "      <td>1107</td>\n",
       "      <td>628</td>\n",
       "    </tr>\n",
       "    <tr>\n",
       "      <th>1</th>\n",
       "      <td>42101028100</td>\n",
       "      <td>1917</td>\n",
       "      <td>1349</td>\n",
       "      <td>568</td>\n",
       "    </tr>\n",
       "    <tr>\n",
       "      <th>2</th>\n",
       "      <td>42101028200</td>\n",
       "      <td>2216</td>\n",
       "      <td>1113</td>\n",
       "      <td>1103</td>\n",
       "    </tr>\n",
       "    <tr>\n",
       "      <th>3</th>\n",
       "      <td>42101028300</td>\n",
       "      <td>2532</td>\n",
       "      <td>1261</td>\n",
       "      <td>1271</td>\n",
       "    </tr>\n",
       "    <tr>\n",
       "      <th>4</th>\n",
       "      <td>42101028400</td>\n",
       "      <td>1363</td>\n",
       "      <td>751</td>\n",
       "      <td>612</td>\n",
       "    </tr>\n",
       "  </tbody>\n",
       "</table>\n",
       "</div>"
      ],
      "text/plain": [
       "          FIPS  Occupied Housing Units  Owner Occupied  Renter Occupied\n",
       "0  42101028000                    1735            1107              628\n",
       "1  42101028100                    1917            1349              568\n",
       "2  42101028200                    2216            1113             1103\n",
       "3  42101028300                    2532            1261             1271\n",
       "4  42101028400                    1363             751              612"
      ]
     },
     "execution_count": 218,
     "metadata": {},
     "output_type": "execute_result"
    }
   ],
   "source": [
    "df2.head()"
   ]
  },
  {
   "cell_type": "code",
   "execution_count": 219,
   "id": "ff424a10-bd25-46b5-9b9d-7d16376d50d1",
   "metadata": {},
   "outputs": [],
   "source": [
    "tracts_tenure= tracts.merge(df2,on='FIPS')\n",
    "#tracts_tenure = df2.merge(tracts,on='FIPS')"
   ]
  },
  {
   "cell_type": "code",
   "execution_count": 220,
   "id": "8ab161ea-395c-4ac6-9671-21306b9fa39e",
   "metadata": {},
   "outputs": [
    {
     "data": {
      "text/html": [
       "<div>\n",
       "<style scoped>\n",
       "    .dataframe tbody tr th:only-of-type {\n",
       "        vertical-align: middle;\n",
       "    }\n",
       "\n",
       "    .dataframe tbody tr th {\n",
       "        vertical-align: top;\n",
       "    }\n",
       "\n",
       "    .dataframe thead th {\n",
       "        text-align: right;\n",
       "    }\n",
       "</style>\n",
       "<table border=\"1\" class=\"dataframe\">\n",
       "  <thead>\n",
       "    <tr style=\"text-align: right;\">\n",
       "      <th></th>\n",
       "      <th>TRACTCE10</th>\n",
       "      <th>geometry</th>\n",
       "      <th>FIPS</th>\n",
       "      <th>Occupied Housing Units</th>\n",
       "      <th>Owner Occupied</th>\n",
       "      <th>Renter Occupied</th>\n",
       "    </tr>\n",
       "  </thead>\n",
       "  <tbody>\n",
       "    <tr>\n",
       "      <th>0</th>\n",
       "      <td>028300</td>\n",
       "      <td>POLYGON ((-75.14169 40.02076, -75.14159 40.020...</td>\n",
       "      <td>42101028300</td>\n",
       "      <td>2532</td>\n",
       "      <td>1261</td>\n",
       "      <td>1271</td>\n",
       "    </tr>\n",
       "    <tr>\n",
       "      <th>1</th>\n",
       "      <td>028400</td>\n",
       "      <td>POLYGON ((-75.13571 40.02392, -75.13555 40.026...</td>\n",
       "      <td>42101028400</td>\n",
       "      <td>1363</td>\n",
       "      <td>751</td>\n",
       "      <td>612</td>\n",
       "    </tr>\n",
       "    <tr>\n",
       "      <th>2</th>\n",
       "      <td>028500</td>\n",
       "      <td>POLYGON ((-75.13527 40.02919, -75.13541 40.027...</td>\n",
       "      <td>42101028500</td>\n",
       "      <td>1116</td>\n",
       "      <td>616</td>\n",
       "      <td>500</td>\n",
       "    </tr>\n",
       "    <tr>\n",
       "      <th>3</th>\n",
       "      <td>028000</td>\n",
       "      <td>POLYGON ((-75.15385 40.02217, -75.15336 40.022...</td>\n",
       "      <td>42101028000</td>\n",
       "      <td>1735</td>\n",
       "      <td>1107</td>\n",
       "      <td>628</td>\n",
       "    </tr>\n",
       "    <tr>\n",
       "      <th>4</th>\n",
       "      <td>028100</td>\n",
       "      <td>POLYGON ((-75.14658 40.03065, -75.14652 40.030...</td>\n",
       "      <td>42101028100</td>\n",
       "      <td>1917</td>\n",
       "      <td>1349</td>\n",
       "      <td>568</td>\n",
       "    </tr>\n",
       "  </tbody>\n",
       "</table>\n",
       "</div>"
      ],
      "text/plain": [
       "  TRACTCE10                                           geometry         FIPS  \\\n",
       "0    028300  POLYGON ((-75.14169 40.02076, -75.14159 40.020...  42101028300   \n",
       "1    028400  POLYGON ((-75.13571 40.02392, -75.13555 40.026...  42101028400   \n",
       "2    028500  POLYGON ((-75.13527 40.02919, -75.13541 40.027...  42101028500   \n",
       "3    028000  POLYGON ((-75.15385 40.02217, -75.15336 40.022...  42101028000   \n",
       "4    028100  POLYGON ((-75.14658 40.03065, -75.14652 40.030...  42101028100   \n",
       "\n",
       "   Occupied Housing Units  Owner Occupied  Renter Occupied  \n",
       "0                    2532            1261             1271  \n",
       "1                    1363             751              612  \n",
       "2                    1116             616              500  \n",
       "3                    1735            1107              628  \n",
       "4                    1917            1349              568  "
      ]
     },
     "execution_count": 220,
     "metadata": {},
     "output_type": "execute_result"
    }
   ],
   "source": [
    "tracts_tenure.head()"
   ]
  },
  {
   "cell_type": "code",
   "execution_count": 221,
   "id": "8caa8137-e5b6-44dd-abea-21afacfe2739",
   "metadata": {},
   "outputs": [
    {
     "name": "stdout",
     "output_type": "stream",
     "text": [
      "<class 'geopandas.geodataframe.GeoDataFrame'>\n",
      "Int64Index: 6 entries, 0 to 5\n",
      "Data columns (total 6 columns):\n",
      " #   Column                  Non-Null Count  Dtype   \n",
      "---  ------                  --------------  -----   \n",
      " 0   TRACTCE10               6 non-null      object  \n",
      " 1   geometry                6 non-null      geometry\n",
      " 2   FIPS                    6 non-null      object  \n",
      " 3   Occupied Housing Units  6 non-null      int64   \n",
      " 4   Owner Occupied          6 non-null      int64   \n",
      " 5   Renter Occupied         6 non-null      int64   \n",
      "dtypes: geometry(1), int64(3), object(2)\n",
      "memory usage: 336.0+ bytes\n"
     ]
    }
   ],
   "source": [
    "tracts_tenure.info()"
   ]
  },
  {
   "cell_type": "code",
   "execution_count": 225,
   "id": "d5245482-2758-4d3c-9207-8f9a52879b76",
   "metadata": {},
   "outputs": [
    {
     "data": {
      "text/plain": [
       "<AxesSubplot: >"
      ]
     },
     "execution_count": 225,
     "metadata": {},
     "output_type": "execute_result"
    }
   ],
   "source": [
    "tracts_tenure.plot(figsize=(12,10),\n",
    "                 column='Renter Occupied',\n",
    "                 legend=True, \n",
    "                 scheme='NaturalBreaks')"
   ]
  },
  {
   "cell_type": "code",
   "execution_count": null,
   "id": "c67532b4-a560-491f-a75f-6d5d01fc5eb5",
   "metadata": {},
   "outputs": [],
   "source": []
  }
 ],
 "metadata": {
  "kernelspec": {
   "display_name": "Python 3 (ipykernel)",
   "language": "python",
   "name": "python3"
  },
  "language_info": {
   "codemirror_mode": {
    "name": "ipython",
    "version": 3
   },
   "file_extension": ".py",
   "mimetype": "text/x-python",
   "name": "python",
   "nbconvert_exporter": "python",
   "pygments_lexer": "ipython3",
   "version": "3.10.8"
  }
 },
 "nbformat": 4,
 "nbformat_minor": 5
}
