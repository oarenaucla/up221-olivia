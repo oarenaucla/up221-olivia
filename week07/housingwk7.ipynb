{
 "cells": [
  {
   "cell_type": "markdown",
   "id": "90d75048-b8bb-4484-83e0-3b3105e51640",
   "metadata": {},
   "source": [
    "# Scratch Housing Week 7"
   ]
  },
  {
   "cell_type": "markdown",
   "id": "edebc766-400a-47b3-b396-3879358478df",
   "metadata": {},
   "source": [
    "This note book is the housing section of our group notebook and includes Olivia's scratch work. "
   ]
  },
  {
   "cell_type": "markdown",
   "id": "6a03891d-8957-4556-ad48-64d1c4e9f9fd",
   "metadata": {},
   "source": [
    "Yoh provided helpful feedback on our midterm assignment, which included creating a separate data frame of the FIPS codes in the Logan Neighborhood to compare against data for the Philadelphia County. The code below was suggested: \n",
    "\n",
    "\n",
    "logan_FIPS = [FIPS1,FIPS2…,FIPS6]\n",
    "\n",
    "logan_tracts = philadelphia_tracts[philadelphia_tracts['FIPS'].isin(logan_FIPS)]\n",
    "\n",
    "Once you have created the logan geodataframe, you can dissolve them to create a boundary geodataframe:\n",
    "\n",
    "logan_boundary = logan_tracts.dissolve()"
   ]
  }
 ],
 "metadata": {
  "kernelspec": {
   "display_name": "Python 3 (ipykernel)",
   "language": "python",
   "name": "python3"
  },
  "language_info": {
   "codemirror_mode": {
    "name": "ipython",
    "version": 3
   },
   "file_extension": ".py",
   "mimetype": "text/x-python",
   "name": "python",
   "nbconvert_exporter": "python",
   "pygments_lexer": "ipython3",
   "version": "3.10.8"
  }
 },
 "nbformat": 4,
 "nbformat_minor": 5
}
