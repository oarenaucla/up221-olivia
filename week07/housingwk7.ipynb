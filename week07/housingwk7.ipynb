{
 "cells": [
  {
   "cell_type": "markdown",
   "id": "90d75048-b8bb-4484-83e0-3b3105e51640",
   "metadata": {},
   "source": [
    "# Scratch Housing Week 7"
   ]
  },
  {
   "cell_type": "markdown",
   "id": "edebc766-400a-47b3-b396-3879358478df",
   "metadata": {},
   "source": [
    "This note book is the housing section of our group notebook and includes Olivia's scratch work. "
   ]
  },
  {
   "cell_type": "markdown",
   "id": "6a03891d-8957-4556-ad48-64d1c4e9f9fd",
   "metadata": {},
   "source": [
    "Yoh provided helpful feedback on our midterm assignment, which included creating a separate data frame of the FIPS codes in the Logan Neighborhood to compare against data for the Philadelphia County. The code below was suggested: \n",
    "\n",
    "\n",
    "logan_FIPS = [FIPS1,FIPS2…,FIPS6]\n",
    "\n",
    "logan_tracts = philadelphia_tracts[philadelphia_tracts['FIPS'].isin(logan_FIPS)]\n",
    "\n",
    "Once you have created the logan geodataframe, you can dissolve them to create a boundary geodataframe:\n",
    "\n",
    "logan_boundary = logan_tracts.dissolve()"
   ]
  },
  {
   "cell_type": "markdown",
   "id": "6e125d49-0a8c-4538-ae3f-7116dd242318",
   "metadata": {},
   "source": [
    "These data explore the current housing conditions in and around the Logan Triangle area of Philadelphia. Data are pulled from Census data via Social Explorer and the Philadelphia Open Data Portal. The two datasets include housing indicators from the ACS 5-Year Estimates (2017-2021) and a dataset of affordable housing projects financed by the Department of Housing and Community Development from 1994-2019. \n",
    "\n",
    "#### Data Investigation ####\n",
    "In conducting my initial visualizations of housing trends, I merge Census data and bring together housing variables and tract data for mapping.  \n",
    "\n",
    "- **First** , I read in the first dataset of housing indicators for all the census tracts that make up all of Philadelhpia.\n",
    "\n",
    "- **Step 2** , I create a subset of the six tracts that make up the Logan neighborhood, which are (42101028000, 42101028100, 42101028200, 42101028300, 42101028400, 42101028500). \n",
    "\n",
    "- **Step 3**, I read in a data from the Philadelphia census tracts with geometries on FIPS codes (downloaded from the Philadelphia Open Data Portal), bringing the geometries together with downloaded housing indicator output.\n",
    "\n",
    "- **Step 4**, I join these two datasets together on FIPS codes to be able to map data. \n",
    "\n",
    "- **Step 5**, I do exploration of the dataset to get a sense of it. I begin to make charts that compare the Logan Neighborhood to the larger Philadelphia area to get a sense of comparisons. \n",
    "\n",
    "- **Step 6**, TBD\n",
    "\n",
    "#### Data Visualizations ####\n",
    "The priorities for this post-midterm update is to consolidate some of the coding steps, create visuals with a consistent color scheme, clear distinctions between Logan and Philadelphia to help with comparison (through the creation of a boundary), and layer to begin to add depth to our analysis. Some of the elements that this included are:\n",
    "\n",
    "- **Static Maps** of rent and home value with the Logan tracts outlined against Philadelphia\n",
    "- **Static Maps** with affordable housing projects from 25 years \n",
    "- **Interactive Maps** with the rent data and project data overlaid and coded by type of project\n",
    "- **Bar chart** with the type of projects for comparison"
   ]
  }
 ],
 "metadata": {
  "kernelspec": {
   "display_name": "Python 3 (ipykernel)",
   "language": "python",
   "name": "python3"
  },
  "language_info": {
   "codemirror_mode": {
    "name": "ipython",
    "version": 3
   },
   "file_extension": ".py",
   "mimetype": "text/x-python",
   "name": "python",
   "nbconvert_exporter": "python",
   "pygments_lexer": "ipython3",
   "version": "3.10.8"
  }
 },
 "nbformat": 4,
 "nbformat_minor": 5
}
